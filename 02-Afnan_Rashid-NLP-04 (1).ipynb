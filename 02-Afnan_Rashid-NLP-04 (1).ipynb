{
 "cells": [
  {
   "cell_type": "markdown",
   "id": "7f8d0ca7-9998-48d7-9ce5-c56c76309749",
   "metadata": {},
   "source": [
    "**Part of Speech(PoS) tagging**"
   ]
  },
  {
   "cell_type": "code",
   "execution_count": 1,
   "id": "ba36fb83-282f-4c5e-9d25-8cf789152973",
   "metadata": {},
   "outputs": [],
   "source": [
    "text = \"The way to get started is to quit talking and begin doing.\" "
   ]
  },
  {
   "cell_type": "code",
   "execution_count": 2,
   "id": "6453c166-c184-4087-98c6-02f1236b682c",
   "metadata": {},
   "outputs": [
    {
     "data": {
      "text/plain": [
       "['The',\n",
       " 'way',\n",
       " 'to',\n",
       " 'get',\n",
       " 'started',\n",
       " 'is',\n",
       " 'to',\n",
       " 'quit',\n",
       " 'talking',\n",
       " 'and',\n",
       " 'begin',\n",
       " 'doing',\n",
       " '.']"
      ]
     },
     "execution_count": 2,
     "metadata": {},
     "output_type": "execute_result"
    }
   ],
   "source": [
    "from nltk import word_tokenize\n",
    "\n",
    "tokenizer = word_tokenize(text)\n",
    "tokenizer"
   ]
  },
  {
   "cell_type": "code",
   "execution_count": 3,
   "id": "12fb964a-060f-4ed1-baa9-60e890e25a40",
   "metadata": {},
   "outputs": [
    {
     "data": {
      "text/plain": [
       "[('The', 'DT'),\n",
       " ('way', 'NN'),\n",
       " ('to', 'TO'),\n",
       " ('get', 'VB'),\n",
       " ('started', 'VBN'),\n",
       " ('is', 'VBZ'),\n",
       " ('to', 'TO'),\n",
       " ('quit', 'VB'),\n",
       " ('talking', 'VBG'),\n",
       " ('and', 'CC'),\n",
       " ('begin', 'VB'),\n",
       " ('doing', 'VBG'),\n",
       " ('.', '.')]"
      ]
     },
     "execution_count": 3,
     "metadata": {},
     "output_type": "execute_result"
    }
   ],
   "source": [
    "from nltk import pos_tag\n",
    "\n",
    "pos_tag(tokenizer)"
   ]
  },
  {
   "cell_type": "code",
   "execution_count": 14,
   "id": "26bcb2f7-ce3b-4ccd-bb98-1de8545dee91",
   "metadata": {},
   "outputs": [
    {
     "name": "stdout",
     "output_type": "stream",
     "text": [
      "VBG: verb, present participle or gerund\n",
      "    telegraphing stirring focusing angering judging stalling lactating\n",
      "    hankerin' alleging veering capping approaching traveling besieging\n",
      "    encrypting interrupting erasing wincing ...\n"
     ]
    }
   ],
   "source": [
    "nltk.help.upenn_tagset(\"VBG\")"
   ]
  },
  {
   "cell_type": "markdown",
   "id": "551915fa-5b65-4d0d-af9e-982b625a81d4",
   "metadata": {},
   "source": [
    "**Chunking**"
   ]
  },
  {
   "cell_type": "code",
   "execution_count": 4,
   "id": "02d4f028-9576-4210-8911-b9e58be5112c",
   "metadata": {},
   "outputs": [],
   "source": [
    "sentence = \"the little yellow dog barked at the cat\" "
   ]
  },
  {
   "cell_type": "code",
   "execution_count": 7,
   "id": "07459007-69ff-4845-aec3-ed127815885a",
   "metadata": {},
   "outputs": [],
   "source": [
    "import nltk\n",
    "\n",
    "grammar = \"NP: {<DT>?<JJ>*<NN>}\"\n",
    "\n",
    "cp = nltk.RegexpParser(grammar)"
   ]
  },
  {
   "cell_type": "code",
   "execution_count": 16,
   "id": "3a5c8e91-776c-49a2-8088-2e8ef1ece42e",
   "metadata": {},
   "outputs": [],
   "source": [
    "tokens = nltk.word_tokenize (sentence)\n",
    "\n",
    "tags = nltk.pos_tag(tokens)"
   ]
  },
  {
   "cell_type": "code",
   "execution_count": 21,
   "id": "af043898-17a7-426c-800d-314bce1293bd",
   "metadata": {},
   "outputs": [
    {
     "name": "stdout",
     "output_type": "stream",
     "text": [
      "(S\n",
      "  (NP the/DT little/JJ yellow/JJ dog/NN)\n",
      "  barked/VBD\n",
      "  at/IN\n",
      "  (NP the/DT cat/NN))\n"
     ]
    }
   ],
   "source": [
    "chunks = cp.parse(tags)\n",
    "\n",
    "print(chunks)"
   ]
  },
  {
   "cell_type": "code",
   "execution_count": 22,
   "id": "d4ed269a-9826-4f0f-a5da-bd9819943b81",
   "metadata": {},
   "outputs": [
    {
     "name": "stdout",
     "output_type": "stream",
     "text": [
      "(NP the/DT little/JJ yellow/JJ dog/NN)\n",
      "('barked', 'VBD')\n",
      "('at', 'IN')\n",
      "(NP the/DT cat/NN)\n"
     ]
    }
   ],
   "source": [
    "# Print the chunks\n",
    "for chunk in chunks:\n",
    "  print(chunk)"
   ]
  },
  {
   "cell_type": "code",
   "execution_count": 11,
   "id": "a6dec8d4-177c-47a3-9dd3-41eb87bcbc77",
   "metadata": {},
   "outputs": [],
   "source": [
    "result.draw()"
   ]
  },
  {
   "cell_type": "code",
   "execution_count": 23,
   "id": "6d3d884f-c80f-4a55-912a-7d095004fc0b",
   "metadata": {},
   "outputs": [
    {
     "name": "stdout",
     "output_type": "stream",
     "text": [
      "Counter({'DT': 2, 'JJ': 2, 'NN': 2, 'VBD': 1, 'IN': 1})\n"
     ]
    }
   ],
   "source": [
    "from collections import Counter\n",
    "\n",
    "counts = Counter(tag for word,  tag in tags)\n",
    "print(counts)"
   ]
  }
 ],
 "metadata": {
  "kernelspec": {
   "display_name": "Python 3 (ipykernel)",
   "language": "python",
   "name": "python3"
  },
  "language_info": {
   "codemirror_mode": {
    "name": "ipython",
    "version": 3
   },
   "file_extension": ".py",
   "mimetype": "text/x-python",
   "name": "python",
   "nbconvert_exporter": "python",
   "pygments_lexer": "ipython3",
   "version": "3.10.9"
  }
 },
 "nbformat": 4,
 "nbformat_minor": 5
}
