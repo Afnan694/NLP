{
 "cells": [
  {
   "cell_type": "code",
   "execution_count": 30,
   "id": "023f935a",
   "metadata": {},
   "outputs": [],
   "source": [
    "import spacy\n",
    "from tabulate import tabulate"
   ]
  },
  {
   "cell_type": "code",
   "execution_count": 31,
   "id": "4ff0dd3e",
   "metadata": {},
   "outputs": [],
   "source": [
    "# Load the SpaCy language model\n",
    "nlp = spacy.load(\"en_core_web_sm\")"
   ]
  },
  {
   "cell_type": "code",
   "execution_count": 32,
   "id": "4f6fbc8e",
   "metadata": {},
   "outputs": [],
   "source": [
    "# Function to perform morphological analysis on a sentence\n",
    "def analyze_sentence(sentence):\n",
    "    doc = nlp(sentence)\n",
    "    inflations = []\n",
    "    declensions = []\n",
    "\n",
    "    for token in doc:\n",
    "        # Analyze inflation (prefixes and suffixes)\n",
    "        inflation = (token.text, f\"{token.prefix_}-{token.suffix_}\")\n",
    "        inflations.append(inflation)\n",
    "\n",
    "        # Analyze declensions (parts of speech)\n",
    "        declension = (token.text, token.pos_)\n",
    "        declensions.append(declension)\n",
    "\n",
    "    return inflations, declensions"
   ]
  },
  {
   "cell_type": "code",
   "execution_count": 33,
   "id": "de8bd034",
   "metadata": {},
   "outputs": [],
   "source": [
    "# get input from user for various sentences\n",
    "interrogative_sentence = \"What is the weather like today?\" # or interrogative_sentence = input(\"Enter an interrogative Sentence.\")\n",
    "declarative_sentence = \"The weather is sunny.\" # or declarative_sentence = input(\"Enter an declarative Sentence.\")\n",
    "complex_sentence = \"I went to the store, but they were closed, so I had to go to another store.\" # or complex_sentence = input(\"Enter an complex sentence using conjunction.\")\n"
   ]
  },
  {
   "cell_type": "code",
   "execution_count": 34,
   "id": "815e259b",
   "metadata": {},
   "outputs": [],
   "source": [
    "# Process the sentences with spaCy\n",
    "interrogative_doc = nlp(interrogative_sentence)\n",
    "declarative_doc = nlp(declarative_sentence)\n",
    "complex_doc = nlp(complex_sentence)"
   ]
  },
  {
   "cell_type": "code",
   "execution_count": 35,
   "id": "dfaaa865",
   "metadata": {},
   "outputs": [
    {
     "name": "stdout",
     "output_type": "stream",
     "text": [
      "What PRON\n",
      "is AUX\n",
      "the DET\n",
      "weather NOUN\n",
      "like ADP\n",
      "today NOUN\n",
      "? PUNCT\n",
      "\n",
      "\n"
     ]
    }
   ],
   "source": [
    "# Print the morphological analysis for interrogative sentence\n",
    "for token in interrogative_doc:\n",
    "    print(token.text, token.pos_)\n",
    "print(\"\\n\")"
   ]
  },
  {
   "cell_type": "code",
   "execution_count": 36,
   "id": "6be8379f",
   "metadata": {},
   "outputs": [
    {
     "name": "stdout",
     "output_type": "stream",
     "text": [
      "The DET\n",
      "weather NOUN\n",
      "is AUX\n",
      "sunny ADJ\n",
      ". PUNCT\n",
      "\n",
      "\n"
     ]
    }
   ],
   "source": [
    "# Print the morphological analysis for declarative sentence\n",
    "for token in declarative_doc:\n",
    "    print(token.text, token.pos_)\n",
    "print(\"\\n\")"
   ]
  },
  {
   "cell_type": "code",
   "execution_count": 37,
   "id": "bcb9b87a",
   "metadata": {},
   "outputs": [
    {
     "name": "stdout",
     "output_type": "stream",
     "text": [
      "I PRON\n",
      "went VERB\n",
      "to ADP\n",
      "the DET\n",
      "store NOUN\n",
      ", PUNCT\n",
      "but CCONJ\n",
      "they PRON\n",
      "were AUX\n",
      "closed VERB\n",
      ", PUNCT\n",
      "so CCONJ\n",
      "I PRON\n",
      "had VERB\n",
      "to PART\n",
      "go VERB\n",
      "to ADP\n",
      "another DET\n",
      "store NOUN\n",
      ". PUNCT\n"
     ]
    }
   ],
   "source": [
    "# Print the morphological analysis for complex sentence\n",
    "for token in complex_doc:\n",
    "    print(token.text, token.pos_)"
   ]
  },
  {
   "cell_type": "code",
   "execution_count": 38,
   "id": "634d9f7f",
   "metadata": {},
   "outputs": [],
   "source": [
    "# Analyze the sentences\n",
    "inflations_interrogative, declensions_interrogative = analyze_sentence(interrogative_sentence)\n",
    "inflations_declarative, declensions_declarative = analyze_sentence(declarative_sentence)\n",
    "inflations_complex, declensions_complex = analyze_sentence(complex_sentence)"
   ]
  },
  {
   "cell_type": "code",
   "execution_count": 39,
   "id": "dc72f85f",
   "metadata": {},
   "outputs": [],
   "source": [
    "# Create tables\n",
    "table1 = [[\"Word\", \"Inflation\"]]\n",
    "table1.extend(inflations_interrogative)\n",
    "\n",
    "table2 = [[\"Word\", \"Declension\"]]\n",
    "table2.extend(declensions_interrogative)"
   ]
  },
  {
   "cell_type": "code",
   "execution_count": 42,
   "id": "4beb493c",
   "metadata": {},
   "outputs": [
    {
     "name": "stdout",
     "output_type": "stream",
     "text": [
      "Table 1: Inflation\n",
      "Word     Inflation\n",
      "-------  -----------\n",
      "What     W-hat\n",
      "is       i-is\n",
      "the      t-the\n",
      "weather  w-her\n",
      "like     l-ike\n",
      "today    t-day\n",
      "?        ?-?\n"
     ]
    }
   ],
   "source": [
    "# Print the tables\n",
    "print(\"Table 1: Inflation\")\n",
    "print(tabulate(table1, headers=\"firstrow\"))\n",
    "\n"
   ]
  },
  {
   "cell_type": "code",
   "execution_count": 41,
   "id": "095b7d79",
   "metadata": {},
   "outputs": [
    {
     "name": "stdout",
     "output_type": "stream",
     "text": [
      "\n",
      "Table 2: Declension\n",
      "Word     Declension\n",
      "-------  ------------\n",
      "What     PRON\n",
      "is       AUX\n",
      "the      DET\n",
      "weather  NOUN\n",
      "like     ADP\n",
      "today    NOUN\n",
      "?        PUNCT\n"
     ]
    }
   ],
   "source": [
    "print(\"\\nTable 2: Declension\")\n",
    "print(tabulate(table2, headers=\"firstrow\"))\n"
   ]
  },
  {
   "cell_type": "code",
   "execution_count": null,
   "id": "61cb6d27",
   "metadata": {},
   "outputs": [],
   "source": []
  }
 ],
 "metadata": {
  "kernelspec": {
   "display_name": "Python 3 (ipykernel)",
   "language": "python",
   "name": "python3"
  },
  "language_info": {
   "codemirror_mode": {
    "name": "ipython",
    "version": 3
   },
   "file_extension": ".py",
   "mimetype": "text/x-python",
   "name": "python",
   "nbconvert_exporter": "python",
   "pygments_lexer": "ipython3",
   "version": "3.11.5"
  }
 },
 "nbformat": 4,
 "nbformat_minor": 5
}
